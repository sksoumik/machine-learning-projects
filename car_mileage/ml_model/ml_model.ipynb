{
 "cells": [
  {
   "cell_type": "code",
   "execution_count": 27,
   "metadata": {},
   "outputs": [],
   "source": [
    "import pandas as pd\n",
    "import numpy as np\n",
    "\n",
    "from sklearn import preprocessing, pipeline, metrics, model_selection, ensemble\n",
    "from sklearn_pandas import DataFrameMapper\n",
    "from sklearn.impute import SimpleImputer\n",
    "\n",
    "import joblib"
   ]
  },
  {
   "cell_type": "code",
   "execution_count": 3,
   "metadata": {},
   "outputs": [],
   "source": [
    "df = pd.read_csv(\"../../dataset/mpg_data_example.csv\")"
   ]
  },
  {
   "cell_type": "code",
   "execution_count": 4,
   "metadata": {},
   "outputs": [
    {
     "data": {
      "text/html": [
       "<div>\n",
       "<style scoped>\n",
       "    .dataframe tbody tr th:only-of-type {\n",
       "        vertical-align: middle;\n",
       "    }\n",
       "\n",
       "    .dataframe tbody tr th {\n",
       "        vertical-align: top;\n",
       "    }\n",
       "\n",
       "    .dataframe thead th {\n",
       "        text-align: right;\n",
       "    }\n",
       "</style>\n",
       "<table border=\"1\" class=\"dataframe\">\n",
       "  <thead>\n",
       "    <tr style=\"text-align: right;\">\n",
       "      <th></th>\n",
       "      <th>mpg</th>\n",
       "      <th>cylinders</th>\n",
       "      <th>displacement</th>\n",
       "      <th>horsepower</th>\n",
       "      <th>weight</th>\n",
       "      <th>acceleration</th>\n",
       "      <th>model year</th>\n",
       "      <th>origin</th>\n",
       "      <th>car name</th>\n",
       "    </tr>\n",
       "  </thead>\n",
       "  <tbody>\n",
       "    <tr>\n",
       "      <th>0</th>\n",
       "      <td>18.0</td>\n",
       "      <td>8</td>\n",
       "      <td>307.0</td>\n",
       "      <td>130.0</td>\n",
       "      <td>3504</td>\n",
       "      <td>12.0</td>\n",
       "      <td>70</td>\n",
       "      <td>1</td>\n",
       "      <td>chevrolet chevelle malibu</td>\n",
       "    </tr>\n",
       "    <tr>\n",
       "      <th>1</th>\n",
       "      <td>15.0</td>\n",
       "      <td>8</td>\n",
       "      <td>350.0</td>\n",
       "      <td>165.0</td>\n",
       "      <td>3693</td>\n",
       "      <td>11.5</td>\n",
       "      <td>70</td>\n",
       "      <td>1</td>\n",
       "      <td>buick skylark 320</td>\n",
       "    </tr>\n",
       "    <tr>\n",
       "      <th>2</th>\n",
       "      <td>18.0</td>\n",
       "      <td>8</td>\n",
       "      <td>318.0</td>\n",
       "      <td>150.0</td>\n",
       "      <td>3436</td>\n",
       "      <td>11.0</td>\n",
       "      <td>70</td>\n",
       "      <td>1</td>\n",
       "      <td>plymouth satellite</td>\n",
       "    </tr>\n",
       "    <tr>\n",
       "      <th>3</th>\n",
       "      <td>16.0</td>\n",
       "      <td>8</td>\n",
       "      <td>304.0</td>\n",
       "      <td>150.0</td>\n",
       "      <td>3433</td>\n",
       "      <td>12.0</td>\n",
       "      <td>70</td>\n",
       "      <td>1</td>\n",
       "      <td>amc rebel sst</td>\n",
       "    </tr>\n",
       "    <tr>\n",
       "      <th>4</th>\n",
       "      <td>17.0</td>\n",
       "      <td>8</td>\n",
       "      <td>302.0</td>\n",
       "      <td>140.0</td>\n",
       "      <td>3449</td>\n",
       "      <td>10.5</td>\n",
       "      <td>70</td>\n",
       "      <td>1</td>\n",
       "      <td>ford torino</td>\n",
       "    </tr>\n",
       "  </tbody>\n",
       "</table>\n",
       "</div>"
      ],
      "text/plain": [
       "    mpg  cylinders  displacement  horsepower  weight  acceleration  \\\n",
       "0  18.0          8         307.0       130.0    3504          12.0   \n",
       "1  15.0          8         350.0       165.0    3693          11.5   \n",
       "2  18.0          8         318.0       150.0    3436          11.0   \n",
       "3  16.0          8         304.0       150.0    3433          12.0   \n",
       "4  17.0          8         302.0       140.0    3449          10.5   \n",
       "\n",
       "   model year  origin                   car name  \n",
       "0          70       1  chevrolet chevelle malibu  \n",
       "1          70       1          buick skylark 320  \n",
       "2          70       1         plymouth satellite  \n",
       "3          70       1              amc rebel sst  \n",
       "4          70       1                ford torino  "
      ]
     },
     "execution_count": 4,
     "metadata": {},
     "output_type": "execute_result"
    }
   ],
   "source": [
    "df.head()"
   ]
  },
  {
   "cell_type": "code",
   "execution_count": 6,
   "metadata": {},
   "outputs": [
    {
     "data": {
      "text/plain": [
       "mpg             0\n",
       "cylinders       0\n",
       "displacement    0\n",
       "horsepower      6\n",
       "weight          0\n",
       "acceleration    0\n",
       "model year      0\n",
       "origin          0\n",
       "car name        0\n",
       "dtype: int64"
      ]
     },
     "execution_count": 6,
     "metadata": {},
     "output_type": "execute_result"
    }
   ],
   "source": [
    "df.isnull().sum()"
   ]
  },
  {
   "cell_type": "code",
   "execution_count": 20,
   "metadata": {},
   "outputs": [],
   "source": [
    "mapper = DataFrameMapper([\n",
    "                        (['cylinders','displacement','weight','acceleration','model year'], preprocessing.StandardScaler()),\n",
    "                        (['horsepower'], SimpleImputer(missing_values=np.nan, strategy='mean')),\n",
    "                        (['origin'], preprocessing.OneHotEncoder())\n",
    "                        ])"
   ]
  },
  {
   "cell_type": "code",
   "execution_count": 21,
   "metadata": {},
   "outputs": [],
   "source": [
    "pipeline_obj = pipeline.Pipeline([\n",
    "    ('mapper',mapper),\n",
    "    (\"model\", ensemble.RandomForestRegressor())\n",
    "])"
   ]
  },
  {
   "cell_type": "code",
   "execution_count": 22,
   "metadata": {},
   "outputs": [
    {
     "data": {
      "text/plain": [
       "Index(['mpg', 'cylinders', 'displacement', 'horsepower', 'weight',\n",
       "       'acceleration', 'model year', 'origin', 'car name'],\n",
       "      dtype='object')"
      ]
     },
     "execution_count": 22,
     "metadata": {},
     "output_type": "execute_result"
    }
   ],
   "source": [
    "df.columns"
   ]
  },
  {
   "cell_type": "code",
   "execution_count": 23,
   "metadata": {},
   "outputs": [],
   "source": [
    "X=['cylinders', 'displacement', 'horsepower', 'weight',\n",
    "       'acceleration', 'model year', 'origin']\n",
    "Y=['mpg']"
   ]
  },
  {
   "cell_type": "code",
   "execution_count": 24,
   "metadata": {},
   "outputs": [
    {
     "name": "stderr",
     "output_type": "stream",
     "text": [
      "/home/soumik/anaconda3/lib/python3.8/site-packages/sklearn/pipeline.py:346: DataConversionWarning: A column-vector y was passed when a 1d array was expected. Please change the shape of y to (n_samples,), for example using ravel().\n",
      "  self._final_estimator.fit(Xt, y, **fit_params_last_step)\n"
     ]
    },
    {
     "data": {
      "text/plain": [
       "Pipeline(steps=[('mapper',\n",
       "                 DataFrameMapper(drop_cols=[],\n",
       "                                 features=[(['cylinders', 'displacement',\n",
       "                                             'weight', 'acceleration',\n",
       "                                             'model year'],\n",
       "                                            StandardScaler()),\n",
       "                                           (['horsepower'], SimpleImputer()),\n",
       "                                           (['origin'], OneHotEncoder())])),\n",
       "                ('model', RandomForestRegressor())])"
      ]
     },
     "execution_count": 24,
     "metadata": {},
     "output_type": "execute_result"
    }
   ],
   "source": [
    "pipeline_obj.fit(df[X],df[Y])"
   ]
  },
  {
   "cell_type": "code",
   "execution_count": 25,
   "metadata": {},
   "outputs": [
    {
     "data": {
      "text/plain": [
       "array([17.3  , 14.976, 17.07 , 16.39 , 16.895, 14.51 , 14.04 , 14.23 ,\n",
       "       13.48 , 14.71 , 14.996, 14.556, 15.01 , 14.588, 23.943, 21.466,\n",
       "       19.266, 21.133, 27.13 , 26.561, 24.556, 24.361, 24.64 , 24.833,\n",
       "       21.1  , 10.7  , 10.97 , 11.665,  9.94 , 27.15 , 26.441, 24.694,\n",
       "       25.625, 19.123, 16.751, 17.535, 18.645, 18.191, 13.915, 13.79 ,\n",
       "       14.14 , 14.195, 12.13 , 12.86 , 12.6  , 18.175, 21.901, 18.625,\n",
       "       18.42 , 23.29 , 26.945, 29.104, 28.93 , 31.856, 33.44 , 27.305,\n",
       "       26.76 , 24.099, 25.835, 24.464, 20.5  , 22.415, 13.395, 13.65 ,\n",
       "       14.635, 14.085, 15.88 , 11.69 , 12.91 , 12.55 , 12.85 , 20.082,\n",
       "       14.95 , 13.805, 13.38 , 14.06 , 18.901, 22.622, 21.212, 26.205,\n",
       "       22.516, 26.2  , 22.942, 27.425, 26.77 , 13.13 , 14.48 , 13.65 ,\n",
       "       14.32 , 14.51 , 11.95 , 13.17 , 13.215, 13.995, 12.32 , 12.07 ,\n",
       "       13.46 , 18.296, 16.525, 18.33 , 18.414, 21.755, 26.706, 11.44 ,\n",
       "       12.2  , 12.7  , 12.34 , 18.436, 21.44 , 21.485, 22.76 , 21.365,\n",
       "       20.126, 21.635, 26.08 , 14.47 , 15.015, 29.111, 25.07 , 21.37 ,\n",
       "       19.234, 15.312, 22.965, 20.178, 12.216, 20.276, 20.168, 19.15 ,\n",
       "       16.02 , 31.118, 25.276, 31.4  , 24.812, 16.266, 16.065, 17.866,\n",
       "       15.35 , 13.35 , 13.96 , 13.8  , 14.095, 27.68 , 27.321, 26.44 ,\n",
       "       31.689, 31.708, 27.344, 26.06 , 25.811, 23.948, 25.42 , 29.541,\n",
       "       19.24 , 17.691, 15.658, 16.24 , 15.105, 14.915, 15.32 , 14.255,\n",
       "       17.16 , 16.285, 15.622, 17.553, 20.38 , 19.52 , 15.487, 28.335,\n",
       "       23.678, 19.791, 23.146, 23.715, 25.503, 23.841, 18.859, 28.76 ,\n",
       "       18.69 , 23.458, 22.062, 21.334, 23.946, 32.596, 26.776, 25.159,\n",
       "       24.76 , 25.954, 27.475, 16.704, 15.715, 16.296, 14.825, 21.298,\n",
       "       21.01 , 22.979, 21.562, 30.07 , 26.335, 28.865, 32.641, 19.461,\n",
       "       18.004, 18.379, 18.27 , 29.21 , 31.975, 27.985, 25.759, 20.003,\n",
       "       13.936, 19.778, 19.401, 17.112, 15.635, 13.845, 13.995, 13.8  ,\n",
       "       31.247, 29.157, 33.919, 25.701, 33.064, 16.651, 17.182, 15.676,\n",
       "       15.474, 17.971, 20.236, 19.127, 18.113, 15.785, 15.635, 15.575,\n",
       "       15.693, 29.804, 24.468, 26.845, 24.739, 30.451, 31.616, 30.529,\n",
       "       29.727, 21.729, 22.351, 22.725, 40.016, 35.208, 34.228, 37.685,\n",
       "       35.482, 19.626, 19.083, 19.437, 18.903, 20.211, 20.568, 24.777,\n",
       "       20.319, 19.7  , 20.58 , 20.739, 18.641, 18.776, 18.984, 17.99 ,\n",
       "       18.556, 17.176, 30.66 , 26.035, 26.588, 29.953, 23.037, 23.299,\n",
       "       22.993, 24.523, 20.962, 17.853, 21.665, 17.094, 31.952, 30.9  ,\n",
       "       21.324, 21.708, 23.921, 20.071, 20.481, 17.386, 17.819, 17.472,\n",
       "       18.037, 16.531, 16.048, 19.806, 17.837, 34.283, 34.811, 35.369,\n",
       "       27.984, 25.333, 21.043, 28.177, 22.776, 34.447, 34.716, 33.574,\n",
       "       36.409, 27.721, 27.534, 25.934, 31.101, 39.009, 36.738, 33.144,\n",
       "       37.073, 27.814, 26.013, 25.357, 19.78 , 34.704, 30.119, 31.506,\n",
       "       35.157, 32.603, 43.413, 26.746, 40.75 , 43.175, 41.815, 34.848,\n",
       "       30.943, 41.242, 39.431, 35.195, 32.524, 28.408, 28.836, 34.126,\n",
       "       24.432, 32.602, 28.558, 26.916, 26.271, 24.773, 31.427, 38.27 ,\n",
       "       38.255, 36.241, 33.549, 36.701, 37.267, 34.552, 34.717, 34.593,\n",
       "       31.513, 33.882, 34.175, 34.165, 32.58 , 32.08 , 31.5  , 28.237,\n",
       "       29.721, 26.349, 25.578, 21.669, 24.299, 22.2  , 19.855, 28.547,\n",
       "       27.935, 33.189, 30.499, 29.009, 26.963, 24.916, 23.884, 35.563,\n",
       "       35.932, 33.198, 37.282, 35.212, 35.772, 35.409, 33.824, 36.583,\n",
       "       33.803, 36.399, 24.938, 31.374, 26.814, 23.462, 30.753, 34.159,\n",
       "       25.908, 26.945, 42.01 , 32.537, 28.489, 29.772])"
      ]
     },
     "execution_count": 25,
     "metadata": {},
     "output_type": "execute_result"
    }
   ],
   "source": [
    "pipeline_obj.predict(df[X])"
   ]
  },
  {
   "cell_type": "code",
   "execution_count": 28,
   "metadata": {},
   "outputs": [
    {
     "data": {
      "text/plain": [
       "['../model/modelsRFModelforMPG.pkl']"
      ]
     },
     "execution_count": 28,
     "metadata": {},
     "output_type": "execute_result"
    }
   ],
   "source": [
    "joblib.dump(pipeline_obj,'../model/modelsRFModelforMPG.pkl')"
   ]
  },
  {
   "cell_type": "code",
   "execution_count": null,
   "metadata": {},
   "outputs": [],
   "source": []
  }
 ],
 "metadata": {
  "interpreter": {
   "hash": "62331b4a3b45ea45288138cdd65d40d06ce7a6b1ab591b1d88922e81b1c56572"
  },
  "kernelspec": {
   "display_name": "Python 3.8.8 ('base')",
   "language": "python",
   "name": "python3"
  },
  "language_info": {
   "codemirror_mode": {
    "name": "ipython",
    "version": 3
   },
   "file_extension": ".py",
   "mimetype": "text/x-python",
   "name": "python",
   "nbconvert_exporter": "python",
   "pygments_lexer": "ipython3",
   "version": "3.8.8"
  },
  "orig_nbformat": 4
 },
 "nbformat": 4,
 "nbformat_minor": 2
}
