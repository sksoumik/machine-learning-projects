{
 "cells": [
  {
   "cell_type": "code",
   "execution_count": 14,
   "metadata": {},
   "outputs": [],
   "source": [
    "import pandas as pd\n",
    "\n",
    "pd.set_option('display.max_columns', None)  \n",
    "pd.set_option('display.max_rows', None)  \n",
    "pd.set_option('display.max_colwidth', None) \n",
    "\n",
    "from tqdm import tqdm\n",
    "tqdm.pandas()"
   ]
  },
  {
   "cell_type": "code",
   "execution_count": 15,
   "metadata": {},
   "outputs": [],
   "source": [
    "df = pd.read_json('News_Category_Dataset_v3.json', lines=True)"
   ]
  },
  {
   "cell_type": "code",
   "execution_count": 16,
   "metadata": {},
   "outputs": [
    {
     "data": {
      "text/html": [
       "<div>\n",
       "<style scoped>\n",
       "    .dataframe tbody tr th:only-of-type {\n",
       "        vertical-align: middle;\n",
       "    }\n",
       "\n",
       "    .dataframe tbody tr th {\n",
       "        vertical-align: top;\n",
       "    }\n",
       "\n",
       "    .dataframe thead th {\n",
       "        text-align: right;\n",
       "    }\n",
       "</style>\n",
       "<table border=\"1\" class=\"dataframe\">\n",
       "  <thead>\n",
       "    <tr style=\"text-align: right;\">\n",
       "      <th></th>\n",
       "      <th>link</th>\n",
       "      <th>headline</th>\n",
       "      <th>category</th>\n",
       "      <th>short_description</th>\n",
       "      <th>authors</th>\n",
       "      <th>date</th>\n",
       "    </tr>\n",
       "  </thead>\n",
       "  <tbody>\n",
       "    <tr>\n",
       "      <th>0</th>\n",
       "      <td>https://www.huffpost.com/entry/covid-boosters-uptake-us_n_632d719ee4b087fae6feaac9</td>\n",
       "      <td>Over 4 Million Americans Roll Up Sleeves For Omicron-Targeted COVID Boosters</td>\n",
       "      <td>U.S. NEWS</td>\n",
       "      <td>Health experts said it is too early to predict whether demand would match up with the 171 million doses of the new boosters the U.S. ordered for the fall.</td>\n",
       "      <td>Carla K. Johnson, AP</td>\n",
       "      <td>2022-09-23</td>\n",
       "    </tr>\n",
       "    <tr>\n",
       "      <th>1</th>\n",
       "      <td>https://www.huffpost.com/entry/american-airlines-passenger-banned-flight-attendant-punch-justice-department_n_632e25d3e4b0e247890329fe</td>\n",
       "      <td>American Airlines Flyer Charged, Banned For Life After Punching Flight Attendant On Video</td>\n",
       "      <td>U.S. NEWS</td>\n",
       "      <td>He was subdued by passengers and crew when he fled to the back of the aircraft after the confrontation, according to the U.S. attorney's office in Los Angeles.</td>\n",
       "      <td>Mary Papenfuss</td>\n",
       "      <td>2022-09-23</td>\n",
       "    </tr>\n",
       "    <tr>\n",
       "      <th>2</th>\n",
       "      <td>https://www.huffpost.com/entry/funniest-tweets-cats-dogs-september-17-23_n_632de332e4b0695c1d81dc02</td>\n",
       "      <td>23 Of The Funniest Tweets About Cats And Dogs This Week (Sept. 17-23)</td>\n",
       "      <td>COMEDY</td>\n",
       "      <td>\"Until you have a dog you don't understand what could be eaten.\"</td>\n",
       "      <td>Elyse Wanshel</td>\n",
       "      <td>2022-09-23</td>\n",
       "    </tr>\n",
       "  </tbody>\n",
       "</table>\n",
       "</div>"
      ],
      "text/plain": [
       "                                                                                                                                     link  \\\n",
       "0                                                      https://www.huffpost.com/entry/covid-boosters-uptake-us_n_632d719ee4b087fae6feaac9   \n",
       "1  https://www.huffpost.com/entry/american-airlines-passenger-banned-flight-attendant-punch-justice-department_n_632e25d3e4b0e247890329fe   \n",
       "2                                     https://www.huffpost.com/entry/funniest-tweets-cats-dogs-september-17-23_n_632de332e4b0695c1d81dc02   \n",
       "\n",
       "                                                                                    headline  \\\n",
       "0               Over 4 Million Americans Roll Up Sleeves For Omicron-Targeted COVID Boosters   \n",
       "1  American Airlines Flyer Charged, Banned For Life After Punching Flight Attendant On Video   \n",
       "2                      23 Of The Funniest Tweets About Cats And Dogs This Week (Sept. 17-23)   \n",
       "\n",
       "    category  \\\n",
       "0  U.S. NEWS   \n",
       "1  U.S. NEWS   \n",
       "2     COMEDY   \n",
       "\n",
       "                                                                                                                                                 short_description  \\\n",
       "0       Health experts said it is too early to predict whether demand would match up with the 171 million doses of the new boosters the U.S. ordered for the fall.   \n",
       "1  He was subdued by passengers and crew when he fled to the back of the aircraft after the confrontation, according to the U.S. attorney's office in Los Angeles.   \n",
       "2                                                                                                 \"Until you have a dog you don't understand what could be eaten.\"   \n",
       "\n",
       "                authors       date  \n",
       "0  Carla K. Johnson, AP 2022-09-23  \n",
       "1        Mary Papenfuss 2022-09-23  \n",
       "2         Elyse Wanshel 2022-09-23  "
      ]
     },
     "execution_count": 16,
     "metadata": {},
     "output_type": "execute_result"
    }
   ],
   "source": [
    "df.head(3)"
   ]
  },
  {
   "cell_type": "code",
   "execution_count": 17,
   "metadata": {},
   "outputs": [],
   "source": [
    "df = df[['headline', 'short_description']]"
   ]
  },
  {
   "cell_type": "code",
   "execution_count": 18,
   "metadata": {},
   "outputs": [],
   "source": [
    "# merge headline and short description into one column\n",
    "df['content'] = df['headline'] + '. ' + df['short_description']"
   ]
  },
  {
   "cell_type": "code",
   "execution_count": 19,
   "metadata": {},
   "outputs": [
    {
     "data": {
      "text/html": [
       "<div>\n",
       "<style scoped>\n",
       "    .dataframe tbody tr th:only-of-type {\n",
       "        vertical-align: middle;\n",
       "    }\n",
       "\n",
       "    .dataframe tbody tr th {\n",
       "        vertical-align: top;\n",
       "    }\n",
       "\n",
       "    .dataframe thead th {\n",
       "        text-align: right;\n",
       "    }\n",
       "</style>\n",
       "<table border=\"1\" class=\"dataframe\">\n",
       "  <thead>\n",
       "    <tr style=\"text-align: right;\">\n",
       "      <th></th>\n",
       "      <th>headline</th>\n",
       "      <th>short_description</th>\n",
       "      <th>content</th>\n",
       "    </tr>\n",
       "  </thead>\n",
       "  <tbody>\n",
       "    <tr>\n",
       "      <th>0</th>\n",
       "      <td>Over 4 Million Americans Roll Up Sleeves For Omicron-Targeted COVID Boosters</td>\n",
       "      <td>Health experts said it is too early to predict whether demand would match up with the 171 million doses of the new boosters the U.S. ordered for the fall.</td>\n",
       "      <td>Over 4 Million Americans Roll Up Sleeves For Omicron-Targeted COVID Boosters. Health experts said it is too early to predict whether demand would match up with the 171 million doses of the new boosters the U.S. ordered for the fall.</td>\n",
       "    </tr>\n",
       "    <tr>\n",
       "      <th>1</th>\n",
       "      <td>American Airlines Flyer Charged, Banned For Life After Punching Flight Attendant On Video</td>\n",
       "      <td>He was subdued by passengers and crew when he fled to the back of the aircraft after the confrontation, according to the U.S. attorney's office in Los Angeles.</td>\n",
       "      <td>American Airlines Flyer Charged, Banned For Life After Punching Flight Attendant On Video. He was subdued by passengers and crew when he fled to the back of the aircraft after the confrontation, according to the U.S. attorney's office in Los Angeles.</td>\n",
       "    </tr>\n",
       "  </tbody>\n",
       "</table>\n",
       "</div>"
      ],
      "text/plain": [
       "                                                                                    headline  \\\n",
       "0               Over 4 Million Americans Roll Up Sleeves For Omicron-Targeted COVID Boosters   \n",
       "1  American Airlines Flyer Charged, Banned For Life After Punching Flight Attendant On Video   \n",
       "\n",
       "                                                                                                                                                 short_description  \\\n",
       "0       Health experts said it is too early to predict whether demand would match up with the 171 million doses of the new boosters the U.S. ordered for the fall.   \n",
       "1  He was subdued by passengers and crew when he fled to the back of the aircraft after the confrontation, according to the U.S. attorney's office in Los Angeles.   \n",
       "\n",
       "                                                                                                                                                                                                                                                      content  \n",
       "0                    Over 4 Million Americans Roll Up Sleeves For Omicron-Targeted COVID Boosters. Health experts said it is too early to predict whether demand would match up with the 171 million doses of the new boosters the U.S. ordered for the fall.  \n",
       "1  American Airlines Flyer Charged, Banned For Life After Punching Flight Attendant On Video. He was subdued by passengers and crew when he fled to the back of the aircraft after the confrontation, according to the U.S. attorney's office in Los Angeles.  "
      ]
     },
     "execution_count": 19,
     "metadata": {},
     "output_type": "execute_result"
    }
   ],
   "source": [
    "df.head(2)"
   ]
  },
  {
   "cell_type": "code",
   "execution_count": 20,
   "metadata": {},
   "outputs": [],
   "source": [
    "# take only the first 500 rows\n",
    "df = df[:50]"
   ]
  },
  {
   "cell_type": "markdown",
   "metadata": {},
   "source": [
    "#### Keyphrase without POS pattern"
   ]
  },
  {
   "cell_type": "code",
   "execution_count": 21,
   "metadata": {},
   "outputs": [],
   "source": [
    "from keybert import KeyBERT\n",
    "model = KeyBERT()\n",
    "\n",
    "\n",
    "def get_keyphrase_bert(text):\n",
    "    keyphrase = model.extract_keywords(text, keyphrase_ngram_range=(1, 3), stop_words='english', top_n=5)\n",
    "    # return only the keyphrase\n",
    "    return [i[0] for i in keyphrase]"
   ]
  },
  {
   "cell_type": "code",
   "execution_count": 22,
   "metadata": {},
   "outputs": [
    {
     "name": "stderr",
     "output_type": "stream",
     "text": [
      "100%|██████████| 50/50 [00:10<00:00,  4.68it/s]\n"
     ]
    }
   ],
   "source": [
    "# apply the function to the content column\n",
    "df['keyphrase_without_pos'] = df['content'].progress_apply(get_keyphrase_bert)"
   ]
  },
  {
   "cell_type": "code",
   "execution_count": 23,
   "metadata": {},
   "outputs": [
    {
     "data": {
      "text/html": [
       "<div>\n",
       "<style scoped>\n",
       "    .dataframe tbody tr th:only-of-type {\n",
       "        vertical-align: middle;\n",
       "    }\n",
       "\n",
       "    .dataframe tbody tr th {\n",
       "        vertical-align: top;\n",
       "    }\n",
       "\n",
       "    .dataframe thead th {\n",
       "        text-align: right;\n",
       "    }\n",
       "</style>\n",
       "<table border=\"1\" class=\"dataframe\">\n",
       "  <thead>\n",
       "    <tr style=\"text-align: right;\">\n",
       "      <th></th>\n",
       "      <th>content</th>\n",
       "      <th>keyphrase_without_pos</th>\n",
       "    </tr>\n",
       "  </thead>\n",
       "  <tbody>\n",
       "    <tr>\n",
       "      <th>0</th>\n",
       "      <td>Over 4 Million Americans Roll Up Sleeves For Omicron-Targeted COVID Boosters. Health experts said it is too early to predict whether demand would match up with the 171 million doses of the new boosters the U.S. ordered for the fall.</td>\n",
       "      <td>[omicron targeted covid, targeted covid boosters, sleeves omicron targeted, covid boosters, covid boosters health]</td>\n",
       "    </tr>\n",
       "    <tr>\n",
       "      <th>1</th>\n",
       "      <td>American Airlines Flyer Charged, Banned For Life After Punching Flight Attendant On Video. He was subdued by passengers and crew when he fled to the back of the aircraft after the confrontation, according to the U.S. attorney's office in Los Angeles.</td>\n",
       "      <td>[punching flight attendant, flyer charged banned, airlines flyer charged, punching flight, american airlines flyer]</td>\n",
       "    </tr>\n",
       "    <tr>\n",
       "      <th>2</th>\n",
       "      <td>23 Of The Funniest Tweets About Cats And Dogs This Week (Sept. 17-23). \"Until you have a dog you don't understand what could be eaten.\"</td>\n",
       "      <td>[tweets cats dogs, funniest tweets cats, tweets cats, 23 funniest tweets, cats dogs]</td>\n",
       "    </tr>\n",
       "  </tbody>\n",
       "</table>\n",
       "</div>"
      ],
      "text/plain": [
       "                                                                                                                                                                                                                                                      content  \\\n",
       "0                    Over 4 Million Americans Roll Up Sleeves For Omicron-Targeted COVID Boosters. Health experts said it is too early to predict whether demand would match up with the 171 million doses of the new boosters the U.S. ordered for the fall.   \n",
       "1  American Airlines Flyer Charged, Banned For Life After Punching Flight Attendant On Video. He was subdued by passengers and crew when he fled to the back of the aircraft after the confrontation, according to the U.S. attorney's office in Los Angeles.   \n",
       "2                                                                                                                     23 Of The Funniest Tweets About Cats And Dogs This Week (Sept. 17-23). \"Until you have a dog you don't understand what could be eaten.\"   \n",
       "\n",
       "                                                                                                 keyphrase_without_pos  \n",
       "0   [omicron targeted covid, targeted covid boosters, sleeves omicron targeted, covid boosters, covid boosters health]  \n",
       "1  [punching flight attendant, flyer charged banned, airlines flyer charged, punching flight, american airlines flyer]  \n",
       "2                                 [tweets cats dogs, funniest tweets cats, tweets cats, 23 funniest tweets, cats dogs]  "
      ]
     },
     "execution_count": 23,
     "metadata": {},
     "output_type": "execute_result"
    }
   ],
   "source": [
    "df[['content', 'keyphrase_without_pos']].head(3)"
   ]
  },
  {
   "cell_type": "markdown",
   "metadata": {},
   "source": [
    "### Keyphrase extraction using POS pattern"
   ]
  },
  {
   "cell_type": "code",
   "execution_count": 24,
   "metadata": {},
   "outputs": [],
   "source": [
    "from keyphrase_vectorizers import KeyphraseCountVectorizer\n",
    "\n",
    "from keybert import KeyBERT\n",
    "\n",
    "kw_model = KeyBERT()\n",
    "\n",
    "def get_keyPhrases_POS_BERT(text):\n",
    "    keyPhrases = kw_model.extract_keywords(docs=text, vectorizer=KeyphraseCountVectorizer(), top_n=5)\n",
    "    # return only the keyphrases\n",
    "    return [keyPhrases[i][0] for i in range(len(keyPhrases))]"
   ]
  },
  {
   "cell_type": "code",
   "execution_count": 25,
   "metadata": {},
   "outputs": [
    {
     "name": "stderr",
     "output_type": "stream",
     "text": [
      "100%|██████████| 50/50 [00:26<00:00,  1.91it/s]\n"
     ]
    }
   ],
   "source": [
    "df['keyphrase_with_pos'] = df['content'].progress_apply(get_keyPhrases_POS_BERT)"
   ]
  },
  {
   "cell_type": "code",
   "execution_count": 27,
   "metadata": {},
   "outputs": [
    {
     "data": {
      "text/html": [
       "<div>\n",
       "<style scoped>\n",
       "    .dataframe tbody tr th:only-of-type {\n",
       "        vertical-align: middle;\n",
       "    }\n",
       "\n",
       "    .dataframe tbody tr th {\n",
       "        vertical-align: top;\n",
       "    }\n",
       "\n",
       "    .dataframe thead th {\n",
       "        text-align: right;\n",
       "    }\n",
       "</style>\n",
       "<table border=\"1\" class=\"dataframe\">\n",
       "  <thead>\n",
       "    <tr style=\"text-align: right;\">\n",
       "      <th></th>\n",
       "      <th>content</th>\n",
       "      <th>keyphrase_without_pos</th>\n",
       "      <th>keyphrase_with_pos</th>\n",
       "    </tr>\n",
       "  </thead>\n",
       "  <tbody>\n",
       "    <tr>\n",
       "      <th>0</th>\n",
       "      <td>Over 4 Million Americans Roll Up Sleeves For Omicron-Targeted COVID Boosters. Health experts said it is too early to predict whether demand would match up with the 171 million doses of the new boosters the U.S. ordered for the fall.</td>\n",
       "      <td>[omicron targeted covid, targeted covid boosters, sleeves omicron targeted, covid boosters, covid boosters health]</td>\n",
       "      <td>[targeted covid boosters, new boosters, omicron, sleeves, doses]</td>\n",
       "    </tr>\n",
       "    <tr>\n",
       "      <th>1</th>\n",
       "      <td>American Airlines Flyer Charged, Banned For Life After Punching Flight Attendant On Video. He was subdued by passengers and crew when he fled to the back of the aircraft after the confrontation, according to the U.S. attorney's office in Los Angeles.</td>\n",
       "      <td>[punching flight attendant, flyer charged banned, airlines flyer charged, punching flight, american airlines flyer]</td>\n",
       "      <td>[punching flight attendant, american airlines flyer charged, aircraft, passengers, confrontation]</td>\n",
       "    </tr>\n",
       "    <tr>\n",
       "      <th>2</th>\n",
       "      <td>23 Of The Funniest Tweets About Cats And Dogs This Week (Sept. 17-23). \"Until you have a dog you don't understand what could be eaten.\"</td>\n",
       "      <td>[tweets cats dogs, funniest tweets cats, tweets cats, 23 funniest tweets, cats dogs]</td>\n",
       "      <td>[funniest tweets, cats, dogs, dog, week]</td>\n",
       "    </tr>\n",
       "    <tr>\n",
       "      <th>3</th>\n",
       "      <td>The Funniest Tweets From Parents This Week (Sept. 17-23). \"Accidentally put grown-up toothpaste on my toddler’s toothbrush and he screamed like I was cleaning his teeth with a Carolina Reaper dipped in Tabasco sauce.\"</td>\n",
       "      <td>[funniest tweets parents, toddler toothbrush screamed, toothpaste toddler, toothbrush screamed, grown toothpaste toddler]</td>\n",
       "      <td>[funniest tweets, tabasco sauce, toothpaste, teeth, parents]</td>\n",
       "    </tr>\n",
       "    <tr>\n",
       "      <th>4</th>\n",
       "      <td>Woman Who Called Cops On Black Bird-Watcher Loses Lawsuit Against Ex-Employer. Amy Cooper accused investment firm Franklin Templeton of unfairly firing her and branding her a racist after video of the Central Park encounter went viral.</td>\n",
       "      <td>[watcher loses lawsuit, cops black bird, black bird watcher, amy cooper accused, bird watcher loses]</td>\n",
       "      <td>[amy cooper, black bird, lawsuit, watcher, woman]</td>\n",
       "    </tr>\n",
       "  </tbody>\n",
       "</table>\n",
       "</div>"
      ],
      "text/plain": [
       "                                                                                                                                                                                                                                                      content  \\\n",
       "0                    Over 4 Million Americans Roll Up Sleeves For Omicron-Targeted COVID Boosters. Health experts said it is too early to predict whether demand would match up with the 171 million doses of the new boosters the U.S. ordered for the fall.   \n",
       "1  American Airlines Flyer Charged, Banned For Life After Punching Flight Attendant On Video. He was subdued by passengers and crew when he fled to the back of the aircraft after the confrontation, according to the U.S. attorney's office in Los Angeles.   \n",
       "2                                                                                                                     23 Of The Funniest Tweets About Cats And Dogs This Week (Sept. 17-23). \"Until you have a dog you don't understand what could be eaten.\"   \n",
       "3                                   The Funniest Tweets From Parents This Week (Sept. 17-23). \"Accidentally put grown-up toothpaste on my toddler’s toothbrush and he screamed like I was cleaning his teeth with a Carolina Reaper dipped in Tabasco sauce.\"   \n",
       "4                 Woman Who Called Cops On Black Bird-Watcher Loses Lawsuit Against Ex-Employer. Amy Cooper accused investment firm Franklin Templeton of unfairly firing her and branding her a racist after video of the Central Park encounter went viral.   \n",
       "\n",
       "                                                                                                       keyphrase_without_pos  \\\n",
       "0         [omicron targeted covid, targeted covid boosters, sleeves omicron targeted, covid boosters, covid boosters health]   \n",
       "1        [punching flight attendant, flyer charged banned, airlines flyer charged, punching flight, american airlines flyer]   \n",
       "2                                       [tweets cats dogs, funniest tweets cats, tweets cats, 23 funniest tweets, cats dogs]   \n",
       "3  [funniest tweets parents, toddler toothbrush screamed, toothpaste toddler, toothbrush screamed, grown toothpaste toddler]   \n",
       "4                       [watcher loses lawsuit, cops black bird, black bird watcher, amy cooper accused, bird watcher loses]   \n",
       "\n",
       "                                                                                  keyphrase_with_pos  \n",
       "0                                   [targeted covid boosters, new boosters, omicron, sleeves, doses]  \n",
       "1  [punching flight attendant, american airlines flyer charged, aircraft, passengers, confrontation]  \n",
       "2                                                           [funniest tweets, cats, dogs, dog, week]  \n",
       "3                                       [funniest tweets, tabasco sauce, toothpaste, teeth, parents]  \n",
       "4                                                  [amy cooper, black bird, lawsuit, watcher, woman]  "
      ]
     },
     "execution_count": 27,
     "metadata": {},
     "output_type": "execute_result"
    }
   ],
   "source": [
    "df[['content', 'keyphrase_without_pos', 'keyphrase_with_pos']].head(5)"
   ]
  },
  {
   "cell_type": "code",
   "execution_count": null,
   "metadata": {},
   "outputs": [],
   "source": []
  }
 ],
 "metadata": {
  "kernelspec": {
   "display_name": "Python 3.9.7 ('ai_ml')",
   "language": "python",
   "name": "python3"
  },
  "language_info": {
   "codemirror_mode": {
    "name": "ipython",
    "version": 3
   },
   "file_extension": ".py",
   "mimetype": "text/x-python",
   "name": "python",
   "nbconvert_exporter": "python",
   "pygments_lexer": "ipython3",
   "version": "3.9.7"
  },
  "orig_nbformat": 4,
  "vscode": {
   "interpreter": {
    "hash": "4cb318141e9f7e3c14a32166c0dbdbe7778342fcbf7356c3b1f53fd17284d2ec"
   }
  }
 },
 "nbformat": 4,
 "nbformat_minor": 2
}
